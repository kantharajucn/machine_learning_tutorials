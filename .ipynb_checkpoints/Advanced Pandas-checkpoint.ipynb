{
 "cells": [
  {
   "cell_type": "markdown",
   "metadata": {},
   "source": [
    "# Advanced concepts in Pandas"
   ]
  },
  {
   "cell_type": "markdown",
   "metadata": {},
   "source": [
    "## Agenda"
   ]
  },
  {
   "cell_type": "markdown",
   "metadata": {},
   "source": [
    "- Introduction to Dataframes and series\n",
    "- Loading data from different sources\n",
    "- Indexing and selecting Data\n",
    "- Dataframe operations\n",
    "- Data normalization and missing data\n",
    "- Visualization\n",
    "- Time Series analysis"
   ]
  },
  {
   "cell_type": "markdown",
   "metadata": {},
   "source": [
    "## Introduction to Dataframes and series"
   ]
  },
  {
   "cell_type": "markdown",
   "metadata": {},
   "source": [
    "### Series"
   ]
  },
  {
   "cell_type": "markdown",
   "metadata": {},
   "source": [
    "Series is a one-dimensional labelled array capable of holding any datatype(int, float, string, python objects etc). The axis labells are collectively labelled as an index.\n"
   ]
  },
  {
   "cell_type": "code",
   "execution_count": 3,
   "metadata": {},
   "outputs": [],
   "source": [
    "import numpy as np\n",
    "import pandas as pd\n",
    "import matplotlib.pyplot as plt"
   ]
  },
  {
   "cell_type": "markdown",
   "metadata": {},
   "source": [
    "Creating pandas series   \n",
    "series = pd.Series(data, index=index)  \n",
    "\n",
    "Here data can be of type dict, ndaaray or scalar values  \n",
    "index is a list of labels  "
   ]
  },
  {
   "cell_type": "markdown",
   "metadata": {},
   "source": [
    "### Series creation"
   ]
  },
  {
   "cell_type": "code",
   "execution_count": 7,
   "metadata": {},
   "outputs": [
    {
     "name": "stdout",
     "output_type": "stream",
     "text": [
      "a    0.735555\n",
      "b    0.680997\n",
      "c    0.615432\n",
      "d    0.711600\n",
      "e    0.501826\n",
      "dtype: float64\n",
      "Index(['a', 'b', 'c', 'd', 'e'], dtype='object')\n"
     ]
    }
   ],
   "source": [
    "series = pd.Series(np.random.rand(5), index=['a', 'b', 'c', 'd', 'e'])\n",
    "print(series)\n",
    "print(series.index)"
   ]
  },
  {
   "cell_type": "code",
   "execution_count": 12,
   "metadata": {},
   "outputs": [
    {
     "data": {
      "text/plain": [
       "a    1\n",
       "b    2\n",
       "c    3\n",
       "d    4\n",
       "dtype: int64"
      ]
     },
     "execution_count": 12,
     "metadata": {},
     "output_type": "execute_result"
    }
   ],
   "source": [
    "# Creating series from dict\n",
    "\n",
    "dict = {'a': 1, 'b': 2, 'c': 3, 'd': 4}\n",
    "series = pd.Series(dict)\n",
    "series"
   ]
  },
  {
   "cell_type": "markdown",
   "metadata": {},
   "source": [
    "### Operations"
   ]
  },
  {
   "cell_type": "code",
   "execution_count": 22,
   "metadata": {},
   "outputs": [
    {
     "name": "stdout",
     "output_type": "stream",
     "text": [
      "1\n",
      "2\n",
      "a    1\n",
      "b    2\n",
      "dtype: int64\n",
      "c    3\n",
      "d    4\n",
      "dtype: int64\n",
      "1\n",
      "10\n",
      "a     2.718282\n",
      "b     7.389056\n",
      "c    20.085537\n",
      "d    54.598150\n",
      "dtype: float64\n"
     ]
    }
   ],
   "source": [
    "#Data access\n",
    "\n",
    "print(series['a']) #Accessing with key\n",
    "print(series[1]) #Accessing using index\n",
    "print(series[:2]) #Accessing using index range\n",
    "print(series[series > 2]) #Conditional access\n",
    "print(series.get('a')) ##Accessing using get\n",
    "\n"
   ]
  },
  {
   "cell_type": "code",
   "execution_count": 24,
   "metadata": {},
   "outputs": [
    {
     "name": "stdout",
     "output_type": "stream",
     "text": [
      "10\n",
      "a     2.718282\n",
      "b     7.389056\n",
      "c    20.085537\n",
      "d    54.598150\n",
      "dtype: float64\n"
     ]
    }
   ],
   "source": [
    "#Arthematic operations\n",
    "\n",
    "print(np.sum(series)) #Sum\n",
    "print(np.exp(series)) #Exponential operation\n"
   ]
  },
  {
   "cell_type": "code",
   "execution_count": 28,
   "metadata": {},
   "outputs": [
    {
     "name": "stdout",
     "output_type": "stream",
     "text": [
      "a    2\n",
      "b    4\n",
      "c    6\n",
      "d    8\n",
      "dtype: int64\n",
      "a    2\n",
      "b    4\n",
      "c    6\n",
      "d    8\n",
      "dtype: int64\n"
     ]
    }
   ],
   "source": [
    "#Vectorized operations and label alignment with Series\n",
    "\n",
    "print(series + series) #Adding two series \n",
    "\n",
    "print(series * 2) #multiplication of series object with scalar value"
   ]
  },
  {
   "cell_type": "code",
   "execution_count": 33,
   "metadata": {},
   "outputs": [
    {
     "name": "stdout",
     "output_type": "stream",
     "text": [
      "a    0.950003\n",
      "b    0.973488\n",
      "c    0.056263\n",
      "Name: numbers, dtype: float64\n",
      "a    0.950003\n",
      "b    0.973488\n",
      "c    0.056263\n",
      "Name: numbers-2, dtype: float64\n"
     ]
    }
   ],
   "source": [
    "#Series name attribute\n",
    "\n",
    "series = pd.Series(np.random.rand(3), index = ['a', 'b', 'c'], name='numbers')\n",
    "print(series)\n",
    "series = series.rename('numbers-2')\n",
    "print(series)"
   ]
  },
  {
   "cell_type": "markdown",
   "metadata": {},
   "source": [
    "## Dataframes"
   ]
  },
  {
   "cell_type": "markdown",
   "metadata": {},
   "source": [
    "Dataframe is 2-dimensional labelled data structure with columns of potentially different types.   \n",
    "Daataframes are similar to spreadsheet, sql tables or dictionary of series objects. This the widely used datastructure in pandas. Dataframe accepts various inputs such as\n",
    "\n",
    "- dict of 1d array, lists, dicts or series\n",
    "- 2-d numpy ndarray.\n",
    "- structured or record nd-array\n",
    "- series\n",
    "- another dataframe\n",
    "\n"
   ]
  },
  {
   "cell_type": "markdown",
   "metadata": {},
   "source": [
    "### Creation from dictionaries"
   ]
  },
  {
   "cell_type": "code",
   "execution_count": 40,
   "metadata": {},
   "outputs": [
    {
     "data": {
      "text/html": [
       "<div>\n",
       "<style scoped>\n",
       "    .dataframe tbody tr th:only-of-type {\n",
       "        vertical-align: middle;\n",
       "    }\n",
       "\n",
       "    .dataframe tbody tr th {\n",
       "        vertical-align: top;\n",
       "    }\n",
       "\n",
       "    .dataframe thead th {\n",
       "        text-align: right;\n",
       "    }\n",
       "</style>\n",
       "<table border=\"1\" class=\"dataframe\">\n",
       "  <thead>\n",
       "    <tr style=\"text-align: right;\">\n",
       "      <th></th>\n",
       "      <th>one</th>\n",
       "      <th>two</th>\n",
       "    </tr>\n",
       "  </thead>\n",
       "  <tbody>\n",
       "    <tr>\n",
       "      <th>a</th>\n",
       "      <td>0.029777</td>\n",
       "      <td>0.137266</td>\n",
       "    </tr>\n",
       "    <tr>\n",
       "      <th>b</th>\n",
       "      <td>0.123366</td>\n",
       "      <td>0.136394</td>\n",
       "    </tr>\n",
       "    <tr>\n",
       "      <th>c</th>\n",
       "      <td>0.543267</td>\n",
       "      <td>0.327074</td>\n",
       "    </tr>\n",
       "    <tr>\n",
       "      <th>d</th>\n",
       "      <td>0.581538</td>\n",
       "      <td>NaN</td>\n",
       "    </tr>\n",
       "    <tr>\n",
       "      <th>v</th>\n",
       "      <td>NaN</td>\n",
       "      <td>0.271480</td>\n",
       "    </tr>\n",
       "  </tbody>\n",
       "</table>\n",
       "</div>"
      ],
      "text/plain": [
       "        one       two\n",
       "a  0.029777  0.137266\n",
       "b  0.123366  0.136394\n",
       "c  0.543267  0.327074\n",
       "d  0.581538       NaN\n",
       "v       NaN  0.271480"
      ]
     },
     "execution_count": 40,
     "metadata": {},
     "output_type": "execute_result"
    }
   ],
   "source": [
    "\n",
    "data = {'one': pd.Series(np.random.rand(4), index=['a', 'b', 'c', 'd']),\n",
    "       'two': pd.Series(np.random.rand(4), index=['a', 'b', 'c', 'v'])}\n",
    "\n",
    "df = pd.DataFrame(data)\n",
    "df"
   ]
  },
  {
   "cell_type": "code",
   "execution_count": 44,
   "metadata": {},
   "outputs": [
    {
     "data": {
      "text/html": [
       "<div>\n",
       "<style scoped>\n",
       "    .dataframe tbody tr th:only-of-type {\n",
       "        vertical-align: middle;\n",
       "    }\n",
       "\n",
       "    .dataframe tbody tr th {\n",
       "        vertical-align: top;\n",
       "    }\n",
       "\n",
       "    .dataframe thead th {\n",
       "        text-align: right;\n",
       "    }\n",
       "</style>\n",
       "<table border=\"1\" class=\"dataframe\">\n",
       "  <thead>\n",
       "    <tr style=\"text-align: right;\">\n",
       "      <th></th>\n",
       "      <th>two</th>\n",
       "      <th>three</th>\n",
       "    </tr>\n",
       "  </thead>\n",
       "  <tbody>\n",
       "    <tr>\n",
       "      <th>a</th>\n",
       "      <td>0.137266</td>\n",
       "      <td>NaN</td>\n",
       "    </tr>\n",
       "    <tr>\n",
       "      <th>b</th>\n",
       "      <td>0.136394</td>\n",
       "      <td>NaN</td>\n",
       "    </tr>\n",
       "    <tr>\n",
       "      <th>c</th>\n",
       "      <td>0.327074</td>\n",
       "      <td>NaN</td>\n",
       "    </tr>\n",
       "  </tbody>\n",
       "</table>\n",
       "</div>"
      ],
      "text/plain": [
       "        two three\n",
       "a  0.137266   NaN\n",
       "b  0.136394   NaN\n",
       "c  0.327074   NaN"
      ]
     },
     "execution_count": 44,
     "metadata": {},
     "output_type": "execute_result"
    }
   ],
   "source": [
    "df = pd.DataFrame(data, index=['a', 'b', 'c'], columns=['two', 'three'])\n",
    "df"
   ]
  },
  {
   "cell_type": "code",
   "execution_count": 46,
   "metadata": {},
   "outputs": [
    {
     "data": {
      "text/plain": [
       "Index(['a', 'b', 'c'], dtype='object')"
      ]
     },
     "execution_count": 46,
     "metadata": {},
     "output_type": "execute_result"
    }
   ],
   "source": [
    "df.index"
   ]
  },
  {
   "cell_type": "code",
   "execution_count": 48,
   "metadata": {},
   "outputs": [
    {
     "data": {
      "text/plain": [
       "Index(['two', 'three'], dtype='object')"
      ]
     },
     "execution_count": 48,
     "metadata": {},
     "output_type": "execute_result"
    }
   ],
   "source": [
    "df.columns"
   ]
  },
  {
   "cell_type": "markdown",
   "metadata": {},
   "source": [
    "### From records"
   ]
  },
  {
   "cell_type": "code",
   "execution_count": 52,
   "metadata": {},
   "outputs": [
    {
     "data": {
      "text/html": [
       "<div>\n",
       "<style scoped>\n",
       "    .dataframe tbody tr th:only-of-type {\n",
       "        vertical-align: middle;\n",
       "    }\n",
       "\n",
       "    .dataframe tbody tr th {\n",
       "        vertical-align: top;\n",
       "    }\n",
       "\n",
       "    .dataframe thead th {\n",
       "        text-align: right;\n",
       "    }\n",
       "</style>\n",
       "<table border=\"1\" class=\"dataframe\">\n",
       "  <thead>\n",
       "    <tr style=\"text-align: right;\">\n",
       "      <th></th>\n",
       "      <th>A</th>\n",
       "      <th>B</th>\n",
       "      <th>C</th>\n",
       "    </tr>\n",
       "  </thead>\n",
       "  <tbody>\n",
       "    <tr>\n",
       "      <th>0</th>\n",
       "      <td>1</td>\n",
       "      <td>2.0</td>\n",
       "      <td>b'Hello'</td>\n",
       "    </tr>\n",
       "    <tr>\n",
       "      <th>1</th>\n",
       "      <td>2</td>\n",
       "      <td>3.0</td>\n",
       "      <td>b'World'</td>\n",
       "    </tr>\n",
       "  </tbody>\n",
       "</table>\n",
       "</div>"
      ],
      "text/plain": [
       "   A    B         C\n",
       "0  1  2.0  b'Hello'\n",
       "1  2  3.0  b'World'"
      ]
     },
     "execution_count": 52,
     "metadata": {},
     "output_type": "execute_result"
    }
   ],
   "source": [
    "data = np.zeros((2, ), dtype=[('A', 'i4'), ('B', 'f4'), ('C', 'a10')])\n",
    "data[:] = [(1, 2., 'Hello'), (2, 3., \"World\")]\n",
    "df = pd.DataFrame(data)\n",
    "df"
   ]
  },
  {
   "cell_type": "markdown",
   "metadata": {},
   "source": [
    "### From list of dictionaries"
   ]
  },
  {
   "cell_type": "code",
   "execution_count": 54,
   "metadata": {},
   "outputs": [
    {
     "data": {
      "text/html": [
       "<div>\n",
       "<style scoped>\n",
       "    .dataframe tbody tr th:only-of-type {\n",
       "        vertical-align: middle;\n",
       "    }\n",
       "\n",
       "    .dataframe tbody tr th {\n",
       "        vertical-align: top;\n",
       "    }\n",
       "\n",
       "    .dataframe thead th {\n",
       "        text-align: right;\n",
       "    }\n",
       "</style>\n",
       "<table border=\"1\" class=\"dataframe\">\n",
       "  <thead>\n",
       "    <tr style=\"text-align: right;\">\n",
       "      <th></th>\n",
       "      <th>a</th>\n",
       "      <th>b</th>\n",
       "      <th>c</th>\n",
       "    </tr>\n",
       "  </thead>\n",
       "  <tbody>\n",
       "    <tr>\n",
       "      <th>0</th>\n",
       "      <td>1</td>\n",
       "      <td>2</td>\n",
       "      <td>NaN</td>\n",
       "    </tr>\n",
       "    <tr>\n",
       "      <th>1</th>\n",
       "      <td>5</td>\n",
       "      <td>10</td>\n",
       "      <td>20.0</td>\n",
       "    </tr>\n",
       "  </tbody>\n",
       "</table>\n",
       "</div>"
      ],
      "text/plain": [
       "   a   b     c\n",
       "0  1   2   NaN\n",
       "1  5  10  20.0"
      ]
     },
     "execution_count": 54,
     "metadata": {},
     "output_type": "execute_result"
    }
   ],
   "source": [
    "data2 = [{'a': 1, 'b': 2}, {'a': 5, 'b': 10, 'c': 20}]\n",
    "df = pd.DataFrame(data2)\n",
    "df"
   ]
  },
  {
   "cell_type": "markdown",
   "metadata": {},
   "source": [
    "### From dict of Tuples"
   ]
  },
  {
   "cell_type": "code",
   "execution_count": 61,
   "metadata": {},
   "outputs": [
    {
     "data": {
      "text/html": [
       "<div>\n",
       "<style scoped>\n",
       "    .dataframe tbody tr th:only-of-type {\n",
       "        vertical-align: middle;\n",
       "    }\n",
       "\n",
       "    .dataframe tbody tr th {\n",
       "        vertical-align: top;\n",
       "    }\n",
       "\n",
       "    .dataframe thead th {\n",
       "        text-align: right;\n",
       "    }\n",
       "</style>\n",
       "<table border=\"1\" class=\"dataframe\">\n",
       "  <thead>\n",
       "    <tr style=\"text-align: right;\">\n",
       "      <th></th>\n",
       "      <th>one</th>\n",
       "      <th>two</th>\n",
       "      <th>three</th>\n",
       "    </tr>\n",
       "  </thead>\n",
       "  <tbody>\n",
       "    <tr>\n",
       "      <th>0</th>\n",
       "      <td>B</td>\n",
       "      <td>3</td>\n",
       "      <td>5</td>\n",
       "    </tr>\n",
       "    <tr>\n",
       "      <th>1</th>\n",
       "      <td>C</td>\n",
       "      <td>4</td>\n",
       "      <td>6</td>\n",
       "    </tr>\n",
       "    <tr>\n",
       "      <th>2</th>\n",
       "      <td>A</td>\n",
       "      <td>1</td>\n",
       "      <td>2</td>\n",
       "    </tr>\n",
       "  </tbody>\n",
       "</table>\n",
       "</div>"
      ],
      "text/plain": [
       "  one  two  three\n",
       "0   B    3      5\n",
       "1   C    4      6\n",
       "2   A    1      2"
      ]
     },
     "execution_count": 61,
     "metadata": {},
     "output_type": "execute_result"
    }
   ],
   "source": [
    "data = {('A', 1, 2), ('B', 3, 5), ('C', 4, 6)}\n",
    "df = pd.DataFrame(data, columns=['one', 'two', 'three'])\n",
    "df"
   ]
  },
  {
   "cell_type": "markdown",
   "metadata": {},
   "source": [
    "## Loading data from different sources"
   ]
  },
  {
   "cell_type": "code",
   "execution_count": 64,
   "metadata": {},
   "outputs": [
    {
     "data": {
      "text/html": [
       "<div>\n",
       "<style scoped>\n",
       "    .dataframe tbody tr th:only-of-type {\n",
       "        vertical-align: middle;\n",
       "    }\n",
       "\n",
       "    .dataframe tbody tr th {\n",
       "        vertical-align: top;\n",
       "    }\n",
       "\n",
       "    .dataframe thead th {\n",
       "        text-align: right;\n",
       "    }\n",
       "</style>\n",
       "<table border=\"1\" class=\"dataframe\">\n",
       "  <thead>\n",
       "    <tr style=\"text-align: right;\">\n",
       "      <th></th>\n",
       "      <th>instant</th>\n",
       "      <th>dteday</th>\n",
       "      <th>season</th>\n",
       "      <th>yr</th>\n",
       "      <th>mnth</th>\n",
       "      <th>hr</th>\n",
       "      <th>holiday</th>\n",
       "      <th>weekday</th>\n",
       "      <th>workingday</th>\n",
       "      <th>weathersit</th>\n",
       "      <th>temp</th>\n",
       "      <th>atemp</th>\n",
       "      <th>hum</th>\n",
       "      <th>windspeed</th>\n",
       "      <th>casual</th>\n",
       "      <th>registered</th>\n",
       "      <th>cnt</th>\n",
       "    </tr>\n",
       "  </thead>\n",
       "  <tbody>\n",
       "    <tr>\n",
       "      <th>0</th>\n",
       "      <td>1</td>\n",
       "      <td>2011-01-01</td>\n",
       "      <td>1</td>\n",
       "      <td>0</td>\n",
       "      <td>1</td>\n",
       "      <td>0</td>\n",
       "      <td>0</td>\n",
       "      <td>6</td>\n",
       "      <td>0</td>\n",
       "      <td>1</td>\n",
       "      <td>0.24</td>\n",
       "      <td>0.2879</td>\n",
       "      <td>0.81</td>\n",
       "      <td>0.0</td>\n",
       "      <td>3</td>\n",
       "      <td>13</td>\n",
       "      <td>16</td>\n",
       "    </tr>\n",
       "    <tr>\n",
       "      <th>1</th>\n",
       "      <td>2</td>\n",
       "      <td>2011-01-01</td>\n",
       "      <td>1</td>\n",
       "      <td>0</td>\n",
       "      <td>1</td>\n",
       "      <td>1</td>\n",
       "      <td>0</td>\n",
       "      <td>6</td>\n",
       "      <td>0</td>\n",
       "      <td>1</td>\n",
       "      <td>0.22</td>\n",
       "      <td>0.2727</td>\n",
       "      <td>0.80</td>\n",
       "      <td>0.0</td>\n",
       "      <td>8</td>\n",
       "      <td>32</td>\n",
       "      <td>40</td>\n",
       "    </tr>\n",
       "    <tr>\n",
       "      <th>2</th>\n",
       "      <td>3</td>\n",
       "      <td>2011-01-01</td>\n",
       "      <td>1</td>\n",
       "      <td>0</td>\n",
       "      <td>1</td>\n",
       "      <td>2</td>\n",
       "      <td>0</td>\n",
       "      <td>6</td>\n",
       "      <td>0</td>\n",
       "      <td>1</td>\n",
       "      <td>0.22</td>\n",
       "      <td>0.2727</td>\n",
       "      <td>0.80</td>\n",
       "      <td>0.0</td>\n",
       "      <td>5</td>\n",
       "      <td>27</td>\n",
       "      <td>32</td>\n",
       "    </tr>\n",
       "    <tr>\n",
       "      <th>3</th>\n",
       "      <td>4</td>\n",
       "      <td>2011-01-01</td>\n",
       "      <td>1</td>\n",
       "      <td>0</td>\n",
       "      <td>1</td>\n",
       "      <td>3</td>\n",
       "      <td>0</td>\n",
       "      <td>6</td>\n",
       "      <td>0</td>\n",
       "      <td>1</td>\n",
       "      <td>0.24</td>\n",
       "      <td>0.2879</td>\n",
       "      <td>0.75</td>\n",
       "      <td>0.0</td>\n",
       "      <td>3</td>\n",
       "      <td>10</td>\n",
       "      <td>13</td>\n",
       "    </tr>\n",
       "    <tr>\n",
       "      <th>4</th>\n",
       "      <td>5</td>\n",
       "      <td>2011-01-01</td>\n",
       "      <td>1</td>\n",
       "      <td>0</td>\n",
       "      <td>1</td>\n",
       "      <td>4</td>\n",
       "      <td>0</td>\n",
       "      <td>6</td>\n",
       "      <td>0</td>\n",
       "      <td>1</td>\n",
       "      <td>0.24</td>\n",
       "      <td>0.2879</td>\n",
       "      <td>0.75</td>\n",
       "      <td>0.0</td>\n",
       "      <td>0</td>\n",
       "      <td>1</td>\n",
       "      <td>1</td>\n",
       "    </tr>\n",
       "  </tbody>\n",
       "</table>\n",
       "</div>"
      ],
      "text/plain": [
       "   instant      dteday  season  yr  mnth  hr  holiday  weekday  workingday  \\\n",
       "0        1  2011-01-01       1   0     1   0        0        6           0   \n",
       "1        2  2011-01-01       1   0     1   1        0        6           0   \n",
       "2        3  2011-01-01       1   0     1   2        0        6           0   \n",
       "3        4  2011-01-01       1   0     1   3        0        6           0   \n",
       "4        5  2011-01-01       1   0     1   4        0        6           0   \n",
       "\n",
       "   weathersit  temp   atemp   hum  windspeed  casual  registered  cnt  \n",
       "0           1  0.24  0.2879  0.81        0.0       3          13   16  \n",
       "1           1  0.22  0.2727  0.80        0.0       8          32   40  \n",
       "2           1  0.22  0.2727  0.80        0.0       5          27   32  \n",
       "3           1  0.24  0.2879  0.75        0.0       3          10   13  \n",
       "4           1  0.24  0.2879  0.75        0.0       0           1    1  "
      ]
     },
     "execution_count": 64,
     "metadata": {},
     "output_type": "execute_result"
    }
   ],
   "source": [
    "#Reading from csv file\n",
    "df = pd.read_csv('../hour.csv')\n",
    "df.head()"
   ]
  },
  {
   "cell_type": "code",
   "execution_count": 66,
   "metadata": {},
   "outputs": [],
   "source": [
    "#Saving the dataframe as json file\n",
    "df.to_json('../hour.json')\n"
   ]
  },
  {
   "cell_type": "code",
   "execution_count": 70,
   "metadata": {},
   "outputs": [
    {
     "data": {
      "text/html": [
       "<div>\n",
       "<style scoped>\n",
       "    .dataframe tbody tr th:only-of-type {\n",
       "        vertical-align: middle;\n",
       "    }\n",
       "\n",
       "    .dataframe tbody tr th {\n",
       "        vertical-align: top;\n",
       "    }\n",
       "\n",
       "    .dataframe thead th {\n",
       "        text-align: right;\n",
       "    }\n",
       "</style>\n",
       "<table border=\"1\" class=\"dataframe\">\n",
       "  <thead>\n",
       "    <tr style=\"text-align: right;\">\n",
       "      <th></th>\n",
       "      <th>atemp</th>\n",
       "      <th>casual</th>\n",
       "      <th>cnt</th>\n",
       "      <th>dteday</th>\n",
       "      <th>holiday</th>\n",
       "      <th>hr</th>\n",
       "      <th>hum</th>\n",
       "      <th>instant</th>\n",
       "      <th>mnth</th>\n",
       "      <th>registered</th>\n",
       "      <th>season</th>\n",
       "      <th>temp</th>\n",
       "      <th>weathersit</th>\n",
       "      <th>weekday</th>\n",
       "      <th>windspeed</th>\n",
       "      <th>workingday</th>\n",
       "      <th>yr</th>\n",
       "    </tr>\n",
       "  </thead>\n",
       "  <tbody>\n",
       "    <tr>\n",
       "      <th>0</th>\n",
       "      <td>0.2879</td>\n",
       "      <td>3</td>\n",
       "      <td>16</td>\n",
       "      <td>2011-01-01</td>\n",
       "      <td>0</td>\n",
       "      <td>0</td>\n",
       "      <td>0.81</td>\n",
       "      <td>1</td>\n",
       "      <td>1</td>\n",
       "      <td>13</td>\n",
       "      <td>1</td>\n",
       "      <td>0.24</td>\n",
       "      <td>1</td>\n",
       "      <td>6</td>\n",
       "      <td>0.0000</td>\n",
       "      <td>0</td>\n",
       "      <td>0</td>\n",
       "    </tr>\n",
       "    <tr>\n",
       "      <th>1</th>\n",
       "      <td>0.2727</td>\n",
       "      <td>8</td>\n",
       "      <td>40</td>\n",
       "      <td>2011-01-01</td>\n",
       "      <td>0</td>\n",
       "      <td>1</td>\n",
       "      <td>0.80</td>\n",
       "      <td>2</td>\n",
       "      <td>1</td>\n",
       "      <td>32</td>\n",
       "      <td>1</td>\n",
       "      <td>0.22</td>\n",
       "      <td>1</td>\n",
       "      <td>6</td>\n",
       "      <td>0.0000</td>\n",
       "      <td>0</td>\n",
       "      <td>0</td>\n",
       "    </tr>\n",
       "    <tr>\n",
       "      <th>10</th>\n",
       "      <td>0.3939</td>\n",
       "      <td>12</td>\n",
       "      <td>36</td>\n",
       "      <td>2011-01-01</td>\n",
       "      <td>0</td>\n",
       "      <td>10</td>\n",
       "      <td>0.76</td>\n",
       "      <td>11</td>\n",
       "      <td>1</td>\n",
       "      <td>24</td>\n",
       "      <td>1</td>\n",
       "      <td>0.38</td>\n",
       "      <td>1</td>\n",
       "      <td>6</td>\n",
       "      <td>0.2537</td>\n",
       "      <td>0</td>\n",
       "      <td>0</td>\n",
       "    </tr>\n",
       "    <tr>\n",
       "      <th>100</th>\n",
       "      <td>0.1970</td>\n",
       "      <td>6</td>\n",
       "      <td>115</td>\n",
       "      <td>2011-01-05</td>\n",
       "      <td>0</td>\n",
       "      <td>9</td>\n",
       "      <td>0.37</td>\n",
       "      <td>101</td>\n",
       "      <td>1</td>\n",
       "      <td>109</td>\n",
       "      <td>1</td>\n",
       "      <td>0.22</td>\n",
       "      <td>1</td>\n",
       "      <td>3</td>\n",
       "      <td>0.3284</td>\n",
       "      <td>1</td>\n",
       "      <td>0</td>\n",
       "    </tr>\n",
       "    <tr>\n",
       "      <th>1000</th>\n",
       "      <td>0.3939</td>\n",
       "      <td>7</td>\n",
       "      <td>256</td>\n",
       "      <td>2011-02-14</td>\n",
       "      <td>0</td>\n",
       "      <td>8</td>\n",
       "      <td>0.40</td>\n",
       "      <td>1001</td>\n",
       "      <td>2</td>\n",
       "      <td>249</td>\n",
       "      <td>1</td>\n",
       "      <td>0.38</td>\n",
       "      <td>1</td>\n",
       "      <td>1</td>\n",
       "      <td>0.4627</td>\n",
       "      <td>1</td>\n",
       "      <td>0</td>\n",
       "    </tr>\n",
       "  </tbody>\n",
       "</table>\n",
       "</div>"
      ],
      "text/plain": [
       "       atemp  casual  cnt      dteday  holiday  hr   hum  instant  mnth  \\\n",
       "0     0.2879       3   16  2011-01-01        0   0  0.81        1     1   \n",
       "1     0.2727       8   40  2011-01-01        0   1  0.80        2     1   \n",
       "10    0.3939      12   36  2011-01-01        0  10  0.76       11     1   \n",
       "100   0.1970       6  115  2011-01-05        0   9  0.37      101     1   \n",
       "1000  0.3939       7  256  2011-02-14        0   8  0.40     1001     2   \n",
       "\n",
       "      registered  season  temp  weathersit  weekday  windspeed  workingday  yr  \n",
       "0             13       1  0.24           1        6     0.0000           0   0  \n",
       "1             32       1  0.22           1        6     0.0000           0   0  \n",
       "10            24       1  0.38           1        6     0.2537           0   0  \n",
       "100          109       1  0.22           1        3     0.3284           1   0  \n",
       "1000         249       1  0.38           1        1     0.4627           1   0  "
      ]
     },
     "execution_count": 70,
     "metadata": {},
     "output_type": "execute_result"
    }
   ],
   "source": [
    "#Reading from json file\n",
    "df = pd.read_json('../hour.json')\n",
    "df.head()"
   ]
  },
  {
   "cell_type": "code",
   "execution_count": 72,
   "metadata": {},
   "outputs": [],
   "source": [
    "#Storing as picke file\n",
    "\n",
    "df.to_pickle('../hour.pkl')"
   ]
  },
  {
   "cell_type": "code",
   "execution_count": 74,
   "metadata": {},
   "outputs": [
    {
     "data": {
      "text/html": [
       "<div>\n",
       "<style scoped>\n",
       "    .dataframe tbody tr th:only-of-type {\n",
       "        vertical-align: middle;\n",
       "    }\n",
       "\n",
       "    .dataframe tbody tr th {\n",
       "        vertical-align: top;\n",
       "    }\n",
       "\n",
       "    .dataframe thead th {\n",
       "        text-align: right;\n",
       "    }\n",
       "</style>\n",
       "<table border=\"1\" class=\"dataframe\">\n",
       "  <thead>\n",
       "    <tr style=\"text-align: right;\">\n",
       "      <th></th>\n",
       "      <th>atemp</th>\n",
       "      <th>casual</th>\n",
       "      <th>cnt</th>\n",
       "      <th>dteday</th>\n",
       "      <th>holiday</th>\n",
       "      <th>hr</th>\n",
       "      <th>hum</th>\n",
       "      <th>instant</th>\n",
       "      <th>mnth</th>\n",
       "      <th>registered</th>\n",
       "      <th>season</th>\n",
       "      <th>temp</th>\n",
       "      <th>weathersit</th>\n",
       "      <th>weekday</th>\n",
       "      <th>windspeed</th>\n",
       "      <th>workingday</th>\n",
       "      <th>yr</th>\n",
       "    </tr>\n",
       "  </thead>\n",
       "  <tbody>\n",
       "    <tr>\n",
       "      <th>0</th>\n",
       "      <td>0.2879</td>\n",
       "      <td>3</td>\n",
       "      <td>16</td>\n",
       "      <td>2011-01-01</td>\n",
       "      <td>0</td>\n",
       "      <td>0</td>\n",
       "      <td>0.81</td>\n",
       "      <td>1</td>\n",
       "      <td>1</td>\n",
       "      <td>13</td>\n",
       "      <td>1</td>\n",
       "      <td>0.24</td>\n",
       "      <td>1</td>\n",
       "      <td>6</td>\n",
       "      <td>0.0000</td>\n",
       "      <td>0</td>\n",
       "      <td>0</td>\n",
       "    </tr>\n",
       "    <tr>\n",
       "      <th>1</th>\n",
       "      <td>0.2727</td>\n",
       "      <td>8</td>\n",
       "      <td>40</td>\n",
       "      <td>2011-01-01</td>\n",
       "      <td>0</td>\n",
       "      <td>1</td>\n",
       "      <td>0.80</td>\n",
       "      <td>2</td>\n",
       "      <td>1</td>\n",
       "      <td>32</td>\n",
       "      <td>1</td>\n",
       "      <td>0.22</td>\n",
       "      <td>1</td>\n",
       "      <td>6</td>\n",
       "      <td>0.0000</td>\n",
       "      <td>0</td>\n",
       "      <td>0</td>\n",
       "    </tr>\n",
       "    <tr>\n",
       "      <th>10</th>\n",
       "      <td>0.3939</td>\n",
       "      <td>12</td>\n",
       "      <td>36</td>\n",
       "      <td>2011-01-01</td>\n",
       "      <td>0</td>\n",
       "      <td>10</td>\n",
       "      <td>0.76</td>\n",
       "      <td>11</td>\n",
       "      <td>1</td>\n",
       "      <td>24</td>\n",
       "      <td>1</td>\n",
       "      <td>0.38</td>\n",
       "      <td>1</td>\n",
       "      <td>6</td>\n",
       "      <td>0.2537</td>\n",
       "      <td>0</td>\n",
       "      <td>0</td>\n",
       "    </tr>\n",
       "    <tr>\n",
       "      <th>100</th>\n",
       "      <td>0.1970</td>\n",
       "      <td>6</td>\n",
       "      <td>115</td>\n",
       "      <td>2011-01-05</td>\n",
       "      <td>0</td>\n",
       "      <td>9</td>\n",
       "      <td>0.37</td>\n",
       "      <td>101</td>\n",
       "      <td>1</td>\n",
       "      <td>109</td>\n",
       "      <td>1</td>\n",
       "      <td>0.22</td>\n",
       "      <td>1</td>\n",
       "      <td>3</td>\n",
       "      <td>0.3284</td>\n",
       "      <td>1</td>\n",
       "      <td>0</td>\n",
       "    </tr>\n",
       "    <tr>\n",
       "      <th>1000</th>\n",
       "      <td>0.3939</td>\n",
       "      <td>7</td>\n",
       "      <td>256</td>\n",
       "      <td>2011-02-14</td>\n",
       "      <td>0</td>\n",
       "      <td>8</td>\n",
       "      <td>0.40</td>\n",
       "      <td>1001</td>\n",
       "      <td>2</td>\n",
       "      <td>249</td>\n",
       "      <td>1</td>\n",
       "      <td>0.38</td>\n",
       "      <td>1</td>\n",
       "      <td>1</td>\n",
       "      <td>0.4627</td>\n",
       "      <td>1</td>\n",
       "      <td>0</td>\n",
       "    </tr>\n",
       "  </tbody>\n",
       "</table>\n",
       "</div>"
      ],
      "text/plain": [
       "       atemp  casual  cnt      dteday  holiday  hr   hum  instant  mnth  \\\n",
       "0     0.2879       3   16  2011-01-01        0   0  0.81        1     1   \n",
       "1     0.2727       8   40  2011-01-01        0   1  0.80        2     1   \n",
       "10    0.3939      12   36  2011-01-01        0  10  0.76       11     1   \n",
       "100   0.1970       6  115  2011-01-05        0   9  0.37      101     1   \n",
       "1000  0.3939       7  256  2011-02-14        0   8  0.40     1001     2   \n",
       "\n",
       "      registered  season  temp  weathersit  weekday  windspeed  workingday  yr  \n",
       "0             13       1  0.24           1        6     0.0000           0   0  \n",
       "1             32       1  0.22           1        6     0.0000           0   0  \n",
       "10            24       1  0.38           1        6     0.2537           0   0  \n",
       "100          109       1  0.22           1        3     0.3284           1   0  \n",
       "1000         249       1  0.38           1        1     0.4627           1   0  "
      ]
     },
     "execution_count": 74,
     "metadata": {},
     "output_type": "execute_result"
    }
   ],
   "source": [
    "#Reading from pickle fie\n",
    "\n",
    "df = pd.read_pickle('../hour.pkl')\n",
    "df.head()"
   ]
  },
  {
   "cell_type": "code",
   "execution_count": 83,
   "metadata": {},
   "outputs": [],
   "source": [
    "#Reading from database\n",
    "\n",
    "import sqlite3\n",
    "sql = sqlite3.connect(\"../tripadvisor.db\")"
   ]
  },
  {
   "cell_type": "code",
   "execution_count": 87,
   "metadata": {},
   "outputs": [],
   "source": [
    "#The documents are stored in the \"documents\" table. This will now be read into a DataFrame.\n",
    "docs = pd.read_sql_query(\"SELECT * FROM documents\", sql, parse_dates=[\"time\"]) "
   ]
  },
  {
   "cell_type": "code",
   "execution_count": 86,
   "metadata": {},
   "outputs": [
    {
     "data": {
      "text/html": [
       "<div>\n",
       "<style scoped>\n",
       "    .dataframe tbody tr th:only-of-type {\n",
       "        vertical-align: middle;\n",
       "    }\n",
       "\n",
       "    .dataframe tbody tr th {\n",
       "        vertical-align: top;\n",
       "    }\n",
       "\n",
       "    .dataframe thead th {\n",
       "        text-align: right;\n",
       "    }\n",
       "</style>\n",
       "<table border=\"1\" class=\"dataframe\">\n",
       "  <thead>\n",
       "    <tr style=\"text-align: right;\">\n",
       "      <th></th>\n",
       "      <th>id</th>\n",
       "      <th>thread_id</th>\n",
       "      <th>topic</th>\n",
       "      <th>title</th>\n",
       "      <th>content</th>\n",
       "      <th>time</th>\n",
       "      <th>links</th>\n",
       "      <th>url</th>\n",
       "      <th>user_name</th>\n",
       "    </tr>\n",
       "  </thead>\n",
       "  <tbody>\n",
       "    <tr>\n",
       "      <th>0</th>\n",
       "      <td>31</td>\n",
       "      <td>28</td>\n",
       "      <td>Student hangouts at NYU</td>\n",
       "      <td></td>\n",
       "      <td>What are the popular hangouts at NYU? I will b...</td>\n",
       "      <td>2004-08-26 16:58:00</td>\n",
       "      <td>{}</td>\n",
       "      <td>None</td>\n",
       "      <td>takjf</td>\n",
       "    </tr>\n",
       "    <tr>\n",
       "      <th>1</th>\n",
       "      <td>45</td>\n",
       "      <td>38</td>\n",
       "      <td>Favorite restaurant repeat visits in Manhattan</td>\n",
       "      <td></td>\n",
       "      <td>I don't get to the city often so I normally do...</td>\n",
       "      <td>2004-08-26 17:43:00</td>\n",
       "      <td>{\"Park Avenue\",\"Union Square Cafe\"}</td>\n",
       "      <td>None</td>\n",
       "      <td>Jpan99</td>\n",
       "    </tr>\n",
       "    <tr>\n",
       "      <th>2</th>\n",
       "      <td>74</td>\n",
       "      <td>65</td>\n",
       "      <td>Park and ride the Train into NYC</td>\n",
       "      <td></td>\n",
       "      <td>If you are coming from upstate NY and want to ...</td>\n",
       "      <td>2004-08-26 22:41:00</td>\n",
       "      <td>{NYC,\"Metro North\",Poughkeepsie,\"Grand Central...</td>\n",
       "      <td>None</td>\n",
       "      <td>Tweetypez</td>\n",
       "    </tr>\n",
       "    <tr>\n",
       "      <th>3</th>\n",
       "      <td>213</td>\n",
       "      <td>157</td>\n",
       "      <td>The Big Apple with 5 year old</td>\n",
       "      <td></td>\n",
       "      <td>I have a five-year-old boy who LOVES buildings...</td>\n",
       "      <td>2004-08-27 21:33:00</td>\n",
       "      <td>{NYC,\"Bronx Zoo\",\"Empire State Building\"}</td>\n",
       "      <td>None</td>\n",
       "      <td>TGlenn04</td>\n",
       "    </tr>\n",
       "    <tr>\n",
       "      <th>4</th>\n",
       "      <td>239</td>\n",
       "      <td>179</td>\n",
       "      <td>Upper East Side hotel search</td>\n",
       "      <td></td>\n",
       "      <td>Looking for hotel or B&amp;B in area near 200 East...</td>\n",
       "      <td>2004-08-28 01:00:00</td>\n",
       "      <td>{\"Upper East Side\"}</td>\n",
       "      <td>None</td>\n",
       "      <td>mom</td>\n",
       "    </tr>\n",
       "  </tbody>\n",
       "</table>\n",
       "</div>"
      ],
      "text/plain": [
       "    id  thread_id                                           topic title  \\\n",
       "0   31         28                         Student hangouts at NYU         \n",
       "1   45         38  Favorite restaurant repeat visits in Manhattan         \n",
       "2   74         65                Park and ride the Train into NYC         \n",
       "3  213        157                   The Big Apple with 5 year old         \n",
       "4  239        179                    Upper East Side hotel search         \n",
       "\n",
       "                                             content                time  \\\n",
       "0  What are the popular hangouts at NYU? I will b... 2004-08-26 16:58:00   \n",
       "1  I don't get to the city often so I normally do... 2004-08-26 17:43:00   \n",
       "2  If you are coming from upstate NY and want to ... 2004-08-26 22:41:00   \n",
       "3  I have a five-year-old boy who LOVES buildings... 2004-08-27 21:33:00   \n",
       "4  Looking for hotel or B&B in area near 200 East... 2004-08-28 01:00:00   \n",
       "\n",
       "                                               links   url  user_name  \n",
       "0                                                 {}  None      takjf  \n",
       "1                {\"Park Avenue\",\"Union Square Cafe\"}  None     Jpan99  \n",
       "2  {NYC,\"Metro North\",Poughkeepsie,\"Grand Central...  None  Tweetypez  \n",
       "3          {NYC,\"Bronx Zoo\",\"Empire State Building\"}  None   TGlenn04  \n",
       "4                                {\"Upper East Side\"}  None        mom  "
      ]
     },
     "execution_count": 86,
     "metadata": {},
     "output_type": "execute_result"
    }
   ],
   "source": [
    "docs.head()\n"
   ]
  },
  {
   "cell_type": "markdown",
   "metadata": {},
   "source": [
    "## Indexing and selecting Data"
   ]
  },
  {
   "cell_type": "markdown",
   "metadata": {},
   "source": [
    "### Dataframe column access"
   ]
  },
  {
   "cell_type": "code",
   "execution_count": 99,
   "metadata": {},
   "outputs": [
    {
     "data": {
      "text/plain": [
       "0        takjf\n",
       "1       Jpan99\n",
       "2    Tweetypez\n",
       "3     TGlenn04\n",
       "4          mom\n",
       "Name: user_name, dtype: object"
      ]
     },
     "execution_count": 99,
     "metadata": {},
     "output_type": "execute_result"
    }
   ],
   "source": [
    "docs['user_name'].head() #Accessing single column"
   ]
  },
  {
   "cell_type": "code",
   "execution_count": 101,
   "metadata": {},
   "outputs": [
    {
     "data": {
      "text/plain": [
       "0        takjf\n",
       "1       Jpan99\n",
       "2    Tweetypez\n",
       "3     TGlenn04\n",
       "4          mom\n",
       "Name: user_name, dtype: object"
      ]
     },
     "execution_count": 101,
     "metadata": {},
     "output_type": "execute_result"
    }
   ],
   "source": [
    "docs.user_name.head()"
   ]
  },
  {
   "cell_type": "code",
   "execution_count": 103,
   "metadata": {},
   "outputs": [
    {
     "data": {
      "text/plain": [
       "array(['takjf', 'Jpan99', 'Tweetypez', ..., 'SINYTraveler',\n",
       "       'dolceincorso', 'Northern_Traveler00'], dtype=object)"
      ]
     },
     "execution_count": 103,
     "metadata": {},
     "output_type": "execute_result"
    }
   ],
   "source": [
    "docs.user_name.values #Getting the array of values"
   ]
  },
  {
   "cell_type": "code",
   "execution_count": 98,
   "metadata": {},
   "outputs": [
    {
     "data": {
      "text/html": [
       "<div>\n",
       "<style scoped>\n",
       "    .dataframe tbody tr th:only-of-type {\n",
       "        vertical-align: middle;\n",
       "    }\n",
       "\n",
       "    .dataframe tbody tr th {\n",
       "        vertical-align: top;\n",
       "    }\n",
       "\n",
       "    .dataframe thead th {\n",
       "        text-align: right;\n",
       "    }\n",
       "</style>\n",
       "<table border=\"1\" class=\"dataframe\">\n",
       "  <thead>\n",
       "    <tr style=\"text-align: right;\">\n",
       "      <th></th>\n",
       "      <th>user_name</th>\n",
       "      <th>topic</th>\n",
       "    </tr>\n",
       "  </thead>\n",
       "  <tbody>\n",
       "    <tr>\n",
       "      <th>0</th>\n",
       "      <td>takjf</td>\n",
       "      <td>Student hangouts at NYU</td>\n",
       "    </tr>\n",
       "    <tr>\n",
       "      <th>1</th>\n",
       "      <td>Jpan99</td>\n",
       "      <td>Favorite restaurant repeat visits in Manhattan</td>\n",
       "    </tr>\n",
       "    <tr>\n",
       "      <th>2</th>\n",
       "      <td>Tweetypez</td>\n",
       "      <td>Park and ride the Train into NYC</td>\n",
       "    </tr>\n",
       "    <tr>\n",
       "      <th>3</th>\n",
       "      <td>TGlenn04</td>\n",
       "      <td>The Big Apple with 5 year old</td>\n",
       "    </tr>\n",
       "    <tr>\n",
       "      <th>4</th>\n",
       "      <td>mom</td>\n",
       "      <td>Upper East Side hotel search</td>\n",
       "    </tr>\n",
       "  </tbody>\n",
       "</table>\n",
       "</div>"
      ],
      "text/plain": [
       "   user_name                                           topic\n",
       "0      takjf                         Student hangouts at NYU\n",
       "1     Jpan99  Favorite restaurant repeat visits in Manhattan\n",
       "2  Tweetypez                Park and ride the Train into NYC\n",
       "3   TGlenn04                   The Big Apple with 5 year old\n",
       "4        mom                    Upper East Side hotel search"
      ]
     },
     "execution_count": 98,
     "metadata": {},
     "output_type": "execute_result"
    }
   ],
   "source": [
    "docs[['user_name', 'topic']].head() #Accessing two attributes"
   ]
  },
  {
   "cell_type": "markdown",
   "metadata": {},
   "source": [
    "### Sclicing ranges"
   ]
  },
  {
   "cell_type": "code",
   "execution_count": 106,
   "metadata": {},
   "outputs": [
    {
     "data": {
      "text/html": [
       "<div>\n",
       "<style scoped>\n",
       "    .dataframe tbody tr th:only-of-type {\n",
       "        vertical-align: middle;\n",
       "    }\n",
       "\n",
       "    .dataframe tbody tr th {\n",
       "        vertical-align: top;\n",
       "    }\n",
       "\n",
       "    .dataframe thead th {\n",
       "        text-align: right;\n",
       "    }\n",
       "</style>\n",
       "<table border=\"1\" class=\"dataframe\">\n",
       "  <thead>\n",
       "    <tr style=\"text-align: right;\">\n",
       "      <th></th>\n",
       "      <th>id</th>\n",
       "      <th>thread_id</th>\n",
       "      <th>topic</th>\n",
       "      <th>title</th>\n",
       "      <th>content</th>\n",
       "      <th>time</th>\n",
       "      <th>links</th>\n",
       "      <th>url</th>\n",
       "      <th>user_name</th>\n",
       "    </tr>\n",
       "  </thead>\n",
       "  <tbody>\n",
       "    <tr>\n",
       "      <th>0</th>\n",
       "      <td>31</td>\n",
       "      <td>28</td>\n",
       "      <td>Student hangouts at NYU</td>\n",
       "      <td></td>\n",
       "      <td>What are the popular hangouts at NYU? I will b...</td>\n",
       "      <td>2004-08-26 16:58:00</td>\n",
       "      <td>{}</td>\n",
       "      <td>None</td>\n",
       "      <td>takjf</td>\n",
       "    </tr>\n",
       "    <tr>\n",
       "      <th>1</th>\n",
       "      <td>45</td>\n",
       "      <td>38</td>\n",
       "      <td>Favorite restaurant repeat visits in Manhattan</td>\n",
       "      <td></td>\n",
       "      <td>I don't get to the city often so I normally do...</td>\n",
       "      <td>2004-08-26 17:43:00</td>\n",
       "      <td>{\"Park Avenue\",\"Union Square Cafe\"}</td>\n",
       "      <td>None</td>\n",
       "      <td>Jpan99</td>\n",
       "    </tr>\n",
       "    <tr>\n",
       "      <th>2</th>\n",
       "      <td>74</td>\n",
       "      <td>65</td>\n",
       "      <td>Park and ride the Train into NYC</td>\n",
       "      <td></td>\n",
       "      <td>If you are coming from upstate NY and want to ...</td>\n",
       "      <td>2004-08-26 22:41:00</td>\n",
       "      <td>{NYC,\"Metro North\",Poughkeepsie,\"Grand Central...</td>\n",
       "      <td>None</td>\n",
       "      <td>Tweetypez</td>\n",
       "    </tr>\n",
       "    <tr>\n",
       "      <th>3</th>\n",
       "      <td>213</td>\n",
       "      <td>157</td>\n",
       "      <td>The Big Apple with 5 year old</td>\n",
       "      <td></td>\n",
       "      <td>I have a five-year-old boy who LOVES buildings...</td>\n",
       "      <td>2004-08-27 21:33:00</td>\n",
       "      <td>{NYC,\"Bronx Zoo\",\"Empire State Building\"}</td>\n",
       "      <td>None</td>\n",
       "      <td>TGlenn04</td>\n",
       "    </tr>\n",
       "    <tr>\n",
       "      <th>4</th>\n",
       "      <td>239</td>\n",
       "      <td>179</td>\n",
       "      <td>Upper East Side hotel search</td>\n",
       "      <td></td>\n",
       "      <td>Looking for hotel or B&amp;B in area near 200 East...</td>\n",
       "      <td>2004-08-28 01:00:00</td>\n",
       "      <td>{\"Upper East Side\"}</td>\n",
       "      <td>None</td>\n",
       "      <td>mom</td>\n",
       "    </tr>\n",
       "  </tbody>\n",
       "</table>\n",
       "</div>"
      ],
      "text/plain": [
       "    id  thread_id                                           topic title  \\\n",
       "0   31         28                         Student hangouts at NYU         \n",
       "1   45         38  Favorite restaurant repeat visits in Manhattan         \n",
       "2   74         65                Park and ride the Train into NYC         \n",
       "3  213        157                   The Big Apple with 5 year old         \n",
       "4  239        179                    Upper East Side hotel search         \n",
       "\n",
       "                                             content                time  \\\n",
       "0  What are the popular hangouts at NYU? I will b... 2004-08-26 16:58:00   \n",
       "1  I don't get to the city often so I normally do... 2004-08-26 17:43:00   \n",
       "2  If you are coming from upstate NY and want to ... 2004-08-26 22:41:00   \n",
       "3  I have a five-year-old boy who LOVES buildings... 2004-08-27 21:33:00   \n",
       "4  Looking for hotel or B&B in area near 200 East... 2004-08-28 01:00:00   \n",
       "\n",
       "                                               links   url  user_name  \n",
       "0                                                 {}  None      takjf  \n",
       "1                {\"Park Avenue\",\"Union Square Cafe\"}  None     Jpan99  \n",
       "2  {NYC,\"Metro North\",Poughkeepsie,\"Grand Central...  None  Tweetypez  \n",
       "3          {NYC,\"Bronx Zoo\",\"Empire State Building\"}  None   TGlenn04  \n",
       "4                                {\"Upper East Side\"}  None        mom  "
      ]
     },
     "execution_count": 106,
     "metadata": {},
     "output_type": "execute_result"
    }
   ],
   "source": [
    "docs[:5] #accessing first five records"
   ]
  },
  {
   "cell_type": "code",
   "execution_count": 112,
   "metadata": {},
   "outputs": [
    {
     "data": {
      "text/html": [
       "<div>\n",
       "<style scoped>\n",
       "    .dataframe tbody tr th:only-of-type {\n",
       "        vertical-align: middle;\n",
       "    }\n",
       "\n",
       "    .dataframe tbody tr th {\n",
       "        vertical-align: top;\n",
       "    }\n",
       "\n",
       "    .dataframe thead th {\n",
       "        text-align: right;\n",
       "    }\n",
       "</style>\n",
       "<table border=\"1\" class=\"dataframe\">\n",
       "  <thead>\n",
       "    <tr style=\"text-align: right;\">\n",
       "      <th></th>\n",
       "      <th>id</th>\n",
       "      <th>thread_id</th>\n",
       "      <th>topic</th>\n",
       "      <th>title</th>\n",
       "      <th>content</th>\n",
       "      <th>time</th>\n",
       "      <th>links</th>\n",
       "      <th>url</th>\n",
       "      <th>user_name</th>\n",
       "    </tr>\n",
       "  </thead>\n",
       "  <tbody>\n",
       "    <tr>\n",
       "      <th>1605587</th>\n",
       "      <td>93134017</td>\n",
       "      <td>11715212</td>\n",
       "      <td>Weekend Visit Itinerary</td>\n",
       "      <td>Re: Weekend Visit Itinerary</td>\n",
       "      <td>Agree you will probably get to your hotel abou...</td>\n",
       "      <td>2018-07-03 20:42:00</td>\n",
       "      <td>{JFK,\"Central Park\"}</td>\n",
       "      <td>None</td>\n",
       "      <td>nytraveler2016</td>\n",
       "    </tr>\n",
       "    <tr>\n",
       "      <th>1605588</th>\n",
       "      <td>93134529</td>\n",
       "      <td>11716035</td>\n",
       "      <td>Restaurant by Pier 83</td>\n",
       "      <td>Re: Restaurant by Pier 83</td>\n",
       "      <td>Legacy records is a hot new restaurant in easy...</td>\n",
       "      <td>2018-07-03 21:26:00</td>\n",
       "      <td>{}</td>\n",
       "      <td>None</td>\n",
       "      <td>here&amp;there</td>\n",
       "    </tr>\n",
       "    <tr>\n",
       "      <th>1605589</th>\n",
       "      <td>93135489</td>\n",
       "      <td>11715780</td>\n",
       "      <td>Traveling to the Game from southeast NY.</td>\n",
       "      <td>Re: Traveling to the Game from southeast NY.</td>\n",
       "      <td>For readers who may want to take Metro North b...</td>\n",
       "      <td>2018-07-03 23:06:00</td>\n",
       "      <td>{\"Metro North\",…mta.info/mnr/html/yankees/yank...</td>\n",
       "      <td>None</td>\n",
       "      <td>SINYTraveler</td>\n",
       "    </tr>\n",
       "    <tr>\n",
       "      <th>1605590</th>\n",
       "      <td>93137471</td>\n",
       "      <td>11713961</td>\n",
       "      <td>I just can't decide which neighborhood...</td>\n",
       "      <td>Re: I just can't decide which neighborhood...</td>\n",
       "      <td>Lizzieandlzzy, actually my son asked me to inc...</td>\n",
       "      <td>2018-07-04 00:53:00</td>\n",
       "      <td>{}</td>\n",
       "      <td>None</td>\n",
       "      <td>dolceincorso</td>\n",
       "    </tr>\n",
       "    <tr>\n",
       "      <th>1605591</th>\n",
       "      <td>93142799</td>\n",
       "      <td>11716035</td>\n",
       "      <td>Restaurant by Pier 83</td>\n",
       "      <td>Re: Restaurant by Pier 83</td>\n",
       "      <td>We had a very nice dinner earlier this year at...</td>\n",
       "      <td>2018-07-04 06:10:00</td>\n",
       "      <td>{Elizabeth,Becco}</td>\n",
       "      <td>None</td>\n",
       "      <td>Northern_Traveler00</td>\n",
       "    </tr>\n",
       "  </tbody>\n",
       "</table>\n",
       "</div>"
      ],
      "text/plain": [
       "               id  thread_id                                      topic  \\\n",
       "1605587  93134017   11715212                    Weekend Visit Itinerary   \n",
       "1605588  93134529   11716035                      Restaurant by Pier 83   \n",
       "1605589  93135489   11715780   Traveling to the Game from southeast NY.   \n",
       "1605590  93137471   11713961  I just can't decide which neighborhood...   \n",
       "1605591  93142799   11716035                      Restaurant by Pier 83   \n",
       "\n",
       "                                                 title  \\\n",
       "1605587                    Re: Weekend Visit Itinerary   \n",
       "1605588                      Re: Restaurant by Pier 83   \n",
       "1605589   Re: Traveling to the Game from southeast NY.   \n",
       "1605590  Re: I just can't decide which neighborhood...   \n",
       "1605591                      Re: Restaurant by Pier 83   \n",
       "\n",
       "                                                   content  \\\n",
       "1605587  Agree you will probably get to your hotel abou...   \n",
       "1605588  Legacy records is a hot new restaurant in easy...   \n",
       "1605589  For readers who may want to take Metro North b...   \n",
       "1605590  Lizzieandlzzy, actually my son asked me to inc...   \n",
       "1605591  We had a very nice dinner earlier this year at...   \n",
       "\n",
       "                       time  \\\n",
       "1605587 2018-07-03 20:42:00   \n",
       "1605588 2018-07-03 21:26:00   \n",
       "1605589 2018-07-03 23:06:00   \n",
       "1605590 2018-07-04 00:53:00   \n",
       "1605591 2018-07-04 06:10:00   \n",
       "\n",
       "                                                     links   url  \\\n",
       "1605587                               {JFK,\"Central Park\"}  None   \n",
       "1605588                                                 {}  None   \n",
       "1605589  {\"Metro North\",…mta.info/mnr/html/yankees/yank...  None   \n",
       "1605590                                                 {}  None   \n",
       "1605591                                  {Elizabeth,Becco}  None   \n",
       "\n",
       "                   user_name  \n",
       "1605587       nytraveler2016  \n",
       "1605588           here&there  \n",
       "1605589         SINYTraveler  \n",
       "1605590         dolceincorso  \n",
       "1605591  Northern_Traveler00  "
      ]
     },
     "execution_count": 112,
     "metadata": {},
     "output_type": "execute_result"
    }
   ],
   "source": [
    "docs[-5:] #Accessing last five document"
   ]
  },
  {
   "cell_type": "code",
   "execution_count": 117,
   "metadata": {},
   "outputs": [
    {
     "data": {
      "text/html": [
       "<div>\n",
       "<style scoped>\n",
       "    .dataframe tbody tr th:only-of-type {\n",
       "        vertical-align: middle;\n",
       "    }\n",
       "\n",
       "    .dataframe tbody tr th {\n",
       "        vertical-align: top;\n",
       "    }\n",
       "\n",
       "    .dataframe thead th {\n",
       "        text-align: right;\n",
       "    }\n",
       "</style>\n",
       "<table border=\"1\" class=\"dataframe\">\n",
       "  <thead>\n",
       "    <tr style=\"text-align: right;\">\n",
       "      <th></th>\n",
       "      <th>id</th>\n",
       "    </tr>\n",
       "  </thead>\n",
       "  <tbody>\n",
       "    <tr>\n",
       "      <th>0</th>\n",
       "      <td>31</td>\n",
       "    </tr>\n",
       "    <tr>\n",
       "      <th>1</th>\n",
       "      <td>45</td>\n",
       "    </tr>\n",
       "    <tr>\n",
       "      <th>2</th>\n",
       "      <td>74</td>\n",
       "    </tr>\n",
       "    <tr>\n",
       "      <th>3</th>\n",
       "      <td>213</td>\n",
       "    </tr>\n",
       "    <tr>\n",
       "      <th>4</th>\n",
       "      <td>239</td>\n",
       "    </tr>\n",
       "  </tbody>\n",
       "</table>\n",
       "</div>"
      ],
      "text/plain": [
       "    id\n",
       "0   31\n",
       "1   45\n",
       "2   74\n",
       "3  213\n",
       "4  239"
      ]
     },
     "execution_count": 117,
     "metadata": {},
     "output_type": "execute_result"
    }
   ],
   "source": [
    "docs.iloc[:5, 0:1] #five rows of first column"
   ]
  },
  {
   "cell_type": "code",
   "execution_count": 120,
   "metadata": {},
   "outputs": [
    {
     "data": {
      "text/plain": [
       "id                                                          31\n",
       "thread_id                                                   28\n",
       "topic                                  Student hangouts at NYU\n",
       "title                                                         \n",
       "content      What are the popular hangouts at NYU? I will b...\n",
       "time                                       2004-08-26 16:58:00\n",
       "links                                                       {}\n",
       "url                                                       None\n",
       "user_name                                                takjf\n",
       "Name: 0, dtype: object"
      ]
     },
     "execution_count": 120,
     "metadata": {},
     "output_type": "execute_result"
    }
   ],
   "source": [
    "docs.iloc[0] #First row of the document"
   ]
  },
  {
   "cell_type": "code",
   "execution_count": 125,
   "metadata": {},
   "outputs": [
    {
     "data": {
      "text/plain": [
       "0        takjf\n",
       "1       Jpan99\n",
       "2    Tweetypez\n",
       "3     TGlenn04\n",
       "4          mom\n",
       "Name: user_name, dtype: object"
      ]
     },
     "execution_count": 125,
     "metadata": {},
     "output_type": "execute_result"
    }
   ],
   "source": [
    "docs.iloc[:, -1].head() #Last column of the document"
   ]
  },
  {
   "cell_type": "markdown",
   "metadata": {},
   "source": [
    "**NOTE:** iloc returns series when single columns is selected or dataframe will be returned."
   ]
  },
  {
   "cell_type": "code",
   "execution_count": 128,
   "metadata": {},
   "outputs": [
    {
     "data": {
      "text/plain": [
       "id                                                          45\n",
       "thread_id                                                   38\n",
       "topic           Favorite restaurant repeat visits in Manhattan\n",
       "title                                                         \n",
       "content      I don't get to the city often so I normally do...\n",
       "time                                       2004-08-26 17:43:00\n",
       "links                      {\"Park Avenue\",\"Union Square Cafe\"}\n",
       "url                                                       None\n",
       "user_name                                               Jpan99\n",
       "Name: 1, dtype: object"
      ]
     },
     "execution_count": 128,
     "metadata": {},
     "output_type": "execute_result"
    }
   ],
   "source": [
    "docs.loc[1] ##Location based access"
   ]
  },
  {
   "cell_type": "code",
   "execution_count": 131,
   "metadata": {},
   "outputs": [
    {
     "data": {
      "text/html": [
       "<div>\n",
       "<style scoped>\n",
       "    .dataframe tbody tr th:only-of-type {\n",
       "        vertical-align: middle;\n",
       "    }\n",
       "\n",
       "    .dataframe tbody tr th {\n",
       "        vertical-align: top;\n",
       "    }\n",
       "\n",
       "    .dataframe thead th {\n",
       "        text-align: right;\n",
       "    }\n",
       "</style>\n",
       "<table border=\"1\" class=\"dataframe\">\n",
       "  <thead>\n",
       "    <tr style=\"text-align: right;\">\n",
       "      <th></th>\n",
       "      <th>id</th>\n",
       "      <th>user_name</th>\n",
       "    </tr>\n",
       "  </thead>\n",
       "  <tbody>\n",
       "    <tr>\n",
       "      <th>10</th>\n",
       "      <td>403</td>\n",
       "      <td>sworl</td>\n",
       "    </tr>\n",
       "    <tr>\n",
       "      <th>11</th>\n",
       "      <td>404</td>\n",
       "      <td>sworl</td>\n",
       "    </tr>\n",
       "  </tbody>\n",
       "</table>\n",
       "</div>"
      ],
      "text/plain": [
       "     id user_name\n",
       "10  403     sworl\n",
       "11  404     sworl"
      ]
     },
     "execution_count": 131,
     "metadata": {},
     "output_type": "execute_result"
    }
   ],
   "source": [
    "docs.loc[[10, 11], ['id', 'user_name']] #Accessing specific columns using location"
   ]
  },
  {
   "cell_type": "code",
   "execution_count": 134,
   "metadata": {},
   "outputs": [
    {
     "data": {
      "text/html": [
       "<div>\n",
       "<style scoped>\n",
       "    .dataframe tbody tr th:only-of-type {\n",
       "        vertical-align: middle;\n",
       "    }\n",
       "\n",
       "    .dataframe tbody tr th {\n",
       "        vertical-align: top;\n",
       "    }\n",
       "\n",
       "    .dataframe thead th {\n",
       "        text-align: right;\n",
       "    }\n",
       "</style>\n",
       "<table border=\"1\" class=\"dataframe\">\n",
       "  <thead>\n",
       "    <tr style=\"text-align: right;\">\n",
       "      <th></th>\n",
       "      <th>id</th>\n",
       "      <th>thread_id</th>\n",
       "      <th>topic</th>\n",
       "      <th>title</th>\n",
       "      <th>content</th>\n",
       "      <th>time</th>\n",
       "      <th>links</th>\n",
       "      <th>url</th>\n",
       "      <th>user_name</th>\n",
       "    </tr>\n",
       "  </thead>\n",
       "  <tbody>\n",
       "    <tr>\n",
       "      <th>2</th>\n",
       "      <td>74</td>\n",
       "      <td>65</td>\n",
       "      <td>Park and ride the Train into NYC</td>\n",
       "      <td></td>\n",
       "      <td>If you are coming from upstate NY and want to ...</td>\n",
       "      <td>2004-08-26 22:41:00</td>\n",
       "      <td>{NYC,\"Metro North\",Poughkeepsie,\"Grand Central...</td>\n",
       "      <td>None</td>\n",
       "      <td>Tweetypez</td>\n",
       "    </tr>\n",
       "  </tbody>\n",
       "</table>\n",
       "</div>"
      ],
      "text/plain": [
       "   id  thread_id                             topic title  \\\n",
       "2  74         65  Park and ride the Train into NYC         \n",
       "\n",
       "                                             content                time  \\\n",
       "2  If you are coming from upstate NY and want to ... 2004-08-26 22:41:00   \n",
       "\n",
       "                                               links   url  user_name  \n",
       "2  {NYC,\"Metro North\",Poughkeepsie,\"Grand Central...  None  Tweetypez  "
      ]
     },
     "execution_count": 134,
     "metadata": {},
     "output_type": "execute_result"
    }
   ],
   "source": [
    "docs.loc[docs['user_name'] == 'Tweetypez'] ##Boolean or logical indexing using loc"
   ]
  },
  {
   "cell_type": "code",
   "execution_count": 139,
   "metadata": {},
   "outputs": [
    {
     "data": {
      "text/plain": [
       "2    Park and ride the Train into NYC\n",
       "Name: topic, dtype: object"
      ]
     },
     "execution_count": 139,
     "metadata": {},
     "output_type": "execute_result"
    }
   ],
   "source": [
    "docs.loc[docs['user_name'] == 'Tweetypez', 'topic'] ##Accessing specific column based on the condition"
   ]
  },
  {
   "cell_type": "markdown",
   "metadata": {},
   "source": [
    "## Dataframe operations"
   ]
  },
  {
   "cell_type": "markdown",
   "metadata": {},
   "source": [
    "### Simple aggregated functions"
   ]
  },
  {
   "cell_type": "code",
   "execution_count": null,
   "metadata": {},
   "outputs": [],
   "source": [
    "docs = docs[:100]\n",
    "docs.mean()"
   ]
  },
  {
   "cell_type": "markdown",
   "metadata": {},
   "source": [
    "### GroupBy: Split, Apply, Combine"
   ]
  }
 ],
 "metadata": {
  "kernelspec": {
   "display_name": "Python 3",
   "language": "python",
   "name": "python3"
  },
  "language_info": {
   "codemirror_mode": {
    "name": "ipython",
    "version": 3
   },
   "file_extension": ".py",
   "mimetype": "text/x-python",
   "name": "python",
   "nbconvert_exporter": "python",
   "pygments_lexer": "ipython3",
   "version": "3.5.2"
  }
 },
 "nbformat": 4,
 "nbformat_minor": 2
}
